{
 "cells": [
  {
   "cell_type": "code",
   "execution_count": null,
   "metadata": {},
   "outputs": [],
   "source": [
    "import pandas as pd\n",
    "import numpy as np\n",
    "import matplotlib.pyplot as plt\n",
    "import seaborn as sns\n",
    "\n",
    "def load_and_process(url_or_path_to_csv_file):\n",
    "\n",
    "    df= (\n",
    "    \n",
    "        pd.read_csv(url_or_path_to_csv_file)\n",
    "        .rename(columns={\"age\": \"Age\", \"sex\": \"Sex\", \"bmi\": \"BMI\", \"children\":\"Children\", \"smoker\" : \"Smoker\", \"region\":\"Region\", \"charges\" : \"Charges\"})\n",
    "        .drop(['Sex'], axis=1)\n",
    "        .dropna()\n",
    "        .sort_values(by=['Age'])\n",
    "        .reset_index()\n",
    "        .drop(['index'], axis=1)\n",
    "        .assign(BMI_Class=lambda x: np.select([\n",
    "        (x.BMI <25),\n",
    "        (x.BMI >25) & (x.BMI < 30),\n",
    "        (x.BMI >30) & (x.BMI < 40),\n",
    "        (x.BMI > 40) \n",
    "        ], ['Healthy', 'OverWeight', 'Obese', 'Extremely Obese']))\n",
    "    \n",
    "    )\n",
    "    \n",
    "    return df\n",
    "\n",
    "\n"
   ]
  }
 ],
 "metadata": {
  "kernelspec": {
   "display_name": "Python 3",
   "language": "python",
   "name": "python3"
  },
  "language_info": {
   "codemirror_mode": {
    "name": "ipython",
    "version": 3
   },
   "file_extension": ".py",
   "mimetype": "text/x-python",
   "name": "python",
   "nbconvert_exporter": "python",
   "pygments_lexer": "ipython3",
   "version": "3.8.3"
  }
 },
 "nbformat": 4,
 "nbformat_minor": 4
}

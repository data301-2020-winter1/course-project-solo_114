{
 "cells": [
  {
   "cell_type": "code",
   "execution_count": null,
   "metadata": {},
   "outputs": [],
   "source": [
    "import pandas as pd\n",
    "import numpy as np\n",
    "import matplotlib.pyplot as plt\n",
    "import seaborn as sns\n",
    "\n",
    "data = pd.read_csv(r\"C:/Users/Mike/Documents/GitHub/course-project-solo_114/data/raw/Medical_Cost.csv\")\n",
    "\n",
    "df= (\n",
    "    data\n",
    "    .rename(columns={\"age\": \"Age\", \"sex\": \"Sex\", \"bmi\": \"BMI\", \"children\":\"Children\", \"smoker\" : \"Smoker\", \"region\":\"Region\", \"charges\" : \"Charges\"})\n",
    "    .drop(['Sex'], axis=1)\n",
    "    .dropna()\n",
    "    .sort_values(by=['Age'])\n",
    "    .reset_index()\n",
    "    .drop(['index'], axis=1)\n",
    "    \n",
    ")\n",
    "print(df)\n",
    "#Healthy<25, 25<OverWeight<30, 30<Obese<40, 40<Extremely Obese\n",
    "conditions = [\n",
    "    (df['BMI'] <25),\n",
    "    (df['BMI'] >25) & (df['BMI'] < 30),\n",
    "    (df['BMI'] >30) & (df['BMI'] < 40),\n",
    "    (df['BMI'] > 40) \n",
    "    ]\n",
    "values = ['Healthy', 'OverWeight', 'Obese', 'Extremely Obese']\n",
    "df['BMI Class']= np.select(conditions, values)\n",
    "print(df)\n",
    "dfSmokers=df[df.Smoker=='yes']\n",
    "dfNonSmokers=df[df.Smoker=='no']\n",
    "dfParents=df[df.Children>0]\n",
    "dfNonParents=df[df.Children==0]"
   ]
  }
 ],
 "metadata": {
  "kernelspec": {
   "display_name": "Python 3",
   "language": "python",
   "name": "python3"
  },
  "language_info": {
   "codemirror_mode": {
    "name": "ipython",
    "version": 3
   },
   "file_extension": ".py",
   "mimetype": "text/x-python",
   "name": "python",
   "nbconvert_exporter": "python",
   "pygments_lexer": "ipython3",
   "version": "3.8.3"
  }
 },
 "nbformat": 4,
 "nbformat_minor": 4
}

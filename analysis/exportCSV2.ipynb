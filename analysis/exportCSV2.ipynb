{
 "cells": [
  {
   "cell_type": "code",
   "execution_count": 2,
   "metadata": {},
   "outputs": [],
   "source": [
    "from scripts import project_functions\n",
    "import pandas as pd\n",
    "\n",
    "\n",
    "df=project_functions.load_and_process(r\"C:/Users/Mike/Documents/GitHub/course-project-solo_114/data/raw/Medical_Cost.csv\")\n",
    "dfYoungOld=df\n",
    "dfYoungOld[\"Age Group\"]=[\"18<=age<30\" if x<30 else \"30<=Age<41\" if x>=30 and x<41 else \"41<=Age<52\" if x>=41 and x<52 else \"Age>52\" for x in df['Age']]\n",
    "df.to_csv(r\"C:/Users/Mike/Documents/GitHub/course-project-solo_114/data/processed/Medical_Cost_Processed_3.csv\", index=False) "
   ]
  },
  {
   "cell_type": "code",
   "execution_count": null,
   "metadata": {},
   "outputs": [],
   "source": []
  },
  {
   "cell_type": "code",
   "execution_count": null,
   "metadata": {},
   "outputs": [],
   "source": []
  }
 ],
 "metadata": {
  "kernelspec": {
   "display_name": "Python 3",
   "language": "python",
   "name": "python3"
  },
  "language_info": {
   "codemirror_mode": {
    "name": "ipython",
    "version": 3
   },
   "file_extension": ".py",
   "mimetype": "text/x-python",
   "name": "python",
   "nbconvert_exporter": "python",
   "pygments_lexer": "ipython3",
   "version": "3.8.3-final"
  }
 },
 "nbformat": 4,
 "nbformat_minor": 4
}
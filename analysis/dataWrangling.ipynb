{
 "cells": [
  {
   "cell_type": "code",
   "execution_count": 9,
   "metadata": {},
   "outputs": [
    {
     "name": "stdout",
     "output_type": "stream",
     "text": [
      "   age     sex     bmi  children smoker     region      charges\n",
      "0   19  female  27.900         0    yes  southwest  16884.92400\n",
      "1   18    male  33.770         1     no  southeast   1725.55230\n",
      "2   28    male  33.000         3     no  southeast   4449.46200\n",
      "3   33    male  22.705         0     no  northwest  21984.47061\n",
      "4   32    male  28.880         0     no  northwest   3866.85520\n",
      "               age          bmi     children       charges\n",
      "count  1338.000000  1338.000000  1338.000000   1338.000000\n",
      "mean     39.207025    30.663397     1.094918  13270.422265\n",
      "std      14.049960     6.098187     1.205493  12110.011237\n",
      "min      18.000000    15.960000     0.000000   1121.873900\n",
      "25%      27.000000    26.296250     0.000000   4740.287150\n",
      "50%      39.000000    30.400000     1.000000   9382.033000\n",
      "75%      51.000000    34.693750     2.000000  16639.912515\n",
      "max      64.000000    53.130000     5.000000  63770.428010\n",
      "         sex smoker     region\n",
      "count   1338   1338       1338\n",
      "unique     2      2          4\n",
      "top     male     no  southeast\n",
      "freq     676   1064        364\n",
      "      Age     BMI  Children Smoker     Region      Charges\n",
      "1248   18  39.820         0     no  southeast   1633.96180\n",
      "482    18  31.350         0     no  southeast   1622.18850\n",
      "492    18  25.080         0     no  northeast   2196.47320\n",
      "525    18  33.880         0     no  southeast  11482.63485\n",
      "529    18  25.460         0     no  northeast   1708.00140\n",
      "...   ...     ...       ...    ...        ...          ...\n",
      "398    64  25.600         2     no  southwest  14988.43200\n",
      "335    64  34.500         0     no  southwest  13822.80300\n",
      "378    64  30.115         3     no  northwest  16455.70785\n",
      "1265   64  23.760         0    yes  southeast  26926.51440\n",
      "635    64  38.190         0     no  northeast  14410.93210\n",
      "\n",
      "[1338 rows x 6 columns]\n",
      "      Age     BMI  Children Smoker     Region      Charges   BMI Class\n",
      "1248   18  39.820         0     no  southeast   1633.96180       Obese\n",
      "482    18  31.350         0     no  southeast   1622.18850       Obese\n",
      "492    18  25.080         0     no  northeast   2196.47320  OverWeight\n",
      "525    18  33.880         0     no  southeast  11482.63485       Obese\n",
      "529    18  25.460         0     no  northeast   1708.00140  OverWeight\n",
      "...   ...     ...       ...    ...        ...          ...         ...\n",
      "398    64  25.600         2     no  southwest  14988.43200  OverWeight\n",
      "335    64  34.500         0     no  southwest  13822.80300       Obese\n",
      "378    64  30.115         3     no  northwest  16455.70785       Obese\n",
      "1265   64  23.760         0    yes  southeast  26926.51440     Healthy\n",
      "635    64  38.190         0     no  northeast  14410.93210       Obese\n",
      "\n",
      "[1338 rows x 7 columns]\n"
     ]
    }
   ],
   "source": [
    "import pandas as pd\n",
    "import numpy as np\n",
    "import matplotlib.pyplot as plt\n",
    "import seaborn as sns\n",
    "\n",
    "df = pd.read_csv(r\"C:/Users/Mike/Documents/GitHub/course-project-solo_114/data/raw/Medical_Cost.csv\")\n",
    "print(df.head())\n",
    "print(df.describe())\n",
    "print(df.describe(exclude=[np.number]))\n",
    "df= df.rename(columns={\"age\": \"Age\", \"sex\": \"Sex\", \"bmi\": \"BMI\", \"children\":\"Children\", \"smoker\" : \"Smoker\", \"region\":\"Region\", \"charges\" : \"Charges\"})\n",
    "df= df.drop(['Sex'], axis=1)\n",
    "df =df.dropna()\n",
    "df=df.sort_values(by=['Age'])\n",
    "print(df)\n",
    "#Healthy<25, 25<OverWeight<30, 30<Obese<40, 40<Extremely Obese\n",
    "conditions = [\n",
    "    (df['BMI'] <25),\n",
    "    (df['BMI'] >25) & (df['BMI'] < 30),\n",
    "    (df['BMI'] >30) & (df['BMI'] < 40),\n",
    "    (df['BMI'] > 40) \n",
    "    ]\n",
    "values = ['Healthy', 'OverWeight', 'Obese', 'Extremely Obese']\n",
    "df['BMI Class']= np.select(conditions, values)\n",
    "print(df)\n",
    "dfSmokers=df[df.Smoker=='yes']\n",
    "dfNonSmokers=df[df.Smoker=='no']\n",
    "dfParents=df[df.Children>0]\n",
    "dfNonParents=df[df.Children==0]\n"
   ]
  },
  {
   "cell_type": "code",
   "execution_count": null,
   "metadata": {},
   "outputs": [],
   "source": []
  }
 ],
 "metadata": {
  "kernelspec": {
   "display_name": "Python 3",
   "language": "python",
   "name": "python3"
  },
  "language_info": {
   "codemirror_mode": {
    "name": "ipython",
    "version": 3
   },
   "file_extension": ".py",
   "mimetype": "text/x-python",
   "name": "python",
   "nbconvert_exporter": "python",
   "pygments_lexer": "ipython3",
   "version": "3.8.3"
  }
 },
 "nbformat": 4,
 "nbformat_minor": 4
}

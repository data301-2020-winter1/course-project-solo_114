{
 "cells": [
  {
   "cell_type": "code",
   "execution_count": 15,
   "metadata": {},
   "outputs": [
    {
     "name": "stdout",
     "output_type": "stream",
     "text": [
      "      Age     BMI  Children Smoker     Region      Charges   BMI_Class\n",
      "0      18  39.820         0     no  southeast   1633.96180       Obese\n",
      "1      18  31.350         0     no  southeast   1622.18850       Obese\n",
      "2      18  25.080         0     no  northeast   2196.47320  OverWeight\n",
      "3      18  33.880         0     no  southeast  11482.63485       Obese\n",
      "4      18  25.460         0     no  northeast   1708.00140  OverWeight\n",
      "...   ...     ...       ...    ...        ...          ...         ...\n",
      "1333   64  25.600         2     no  southwest  14988.43200  OverWeight\n",
      "1334   64  34.500         0     no  southwest  13822.80300       Obese\n",
      "1335   64  30.115         3     no  northwest  16455.70785       Obese\n",
      "1336   64  23.760         0    yes  southeast  26926.51440     Healthy\n",
      "1337   64  38.190         0     no  northeast  14410.93210       Obese\n",
      "\n",
      "[1338 rows x 7 columns]\n"
     ]
    }
   ],
   "source": [
    "import pandas as pd\n",
    "import numpy as np\n",
    "import matplotlib.pyplot as plt\n",
    "import seaborn as sns\n",
    "\n",
    "\n",
    "\n",
    "df= (\n",
    "    \n",
    "    pd.read_csv(r\"C:/Users/Mike/Documents/GitHub/course-project-solo_114/data/raw/Medical_Cost.csv\")\n",
    "    .rename(columns={\"age\": \"Age\", \"sex\": \"Sex\", \"bmi\": \"BMI\", \"children\":\"Children\", \"smoker\" : \"Smoker\", \"region\":\"Region\", \"charges\" : \"Charges\"})\n",
    "    .drop(['Sex'], axis=1)\n",
    "    .dropna()\n",
    "    .sort_values(by=['Age'])\n",
    "    .reset_index()\n",
    "    .drop(['index'], axis=1)\n",
    "    .assign(BMI_Class=lambda x: np.select([\n",
    "    (x.BMI <25),\n",
    "    (x.BMI >25) & (x.BMI < 30),\n",
    "    (x.BMI >30) & (x.BMI < 40),\n",
    "    (x.BMI > 40) \n",
    "    ], ['Healthy', 'OverWeight', 'Obese', 'Extremely Obese']))\n",
    "    \n",
    ")\n",
    "\n",
    "print(df)\n",
    "\n",
    "dfSmokers=df[df.Smoker=='yes']\n",
    "dfNonSmokers=df[df.Smoker=='no']\n",
    "dfParents=df[df.Children>0]\n",
    "dfNonParents=df[df.Children==0]"
   ]
  },
  {
   "cell_type": "code",
   "execution_count": null,
   "metadata": {},
   "outputs": [],
   "source": []
  },
  {
   "cell_type": "code",
   "execution_count": null,
   "metadata": {},
   "outputs": [],
   "source": []
  }
 ],
 "metadata": {
  "kernelspec": {
   "display_name": "Python 3",
   "language": "python",
   "name": "python3"
  },
  "language_info": {
   "codemirror_mode": {
    "name": "ipython",
    "version": 3
   },
   "file_extension": ".py",
   "mimetype": "text/x-python",
   "name": "python",
   "nbconvert_exporter": "python",
   "pygments_lexer": "ipython3",
   "version": "3.8.3"
  }
 },
 "nbformat": 4,
 "nbformat_minor": 4
}
